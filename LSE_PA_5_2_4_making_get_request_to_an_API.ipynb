{
 "cells": [
  {
   "cell_type": "code",
   "execution_count": 49,
   "id": "532d4828",
   "metadata": {},
   "outputs": [
    {
     "name": "stdout",
     "output_type": "stream",
     "text": [
      "200\n",
      "{'time': {'updated': 'Jul 2, 2022 17:19:00 UTC', 'updatedISO': '2022-07-02T17:19:00+00:00', 'updateduk': 'Jul 2, 2022 at 18:19 BST'}, 'disclaimer': 'This data was produced from the CoinDesk Bitcoin Price Index (USD). Non-USD currency data converted using hourly conversion rate from openexchangerates.org', 'chartName': 'Bitcoin', 'bpi': {'USD': {'code': 'USD', 'symbol': '&#36;', 'rate': '19,270.9614', 'description': 'United States Dollar', 'rate_float': 19270.9614}, 'GBP': {'code': 'GBP', 'symbol': '&pound;', 'rate': '15,919.8376', 'description': 'British Pound Sterling', 'rate_float': 15919.8376}, 'EUR': {'code': 'EUR', 'symbol': '&euro;', 'rate': '18,478.0770', 'description': 'Euro', 'rate_float': 18478.077}}}\n"
     ]
    }
   ],
   "source": [
    "# Import the necessary libraries\n",
    "import requests\n",
    "import json\n",
    "import pandas as pd\n",
    "\n",
    "url = 'https://api.coindesk.com/v1/bpi/currentprice.json'\n",
    "\n",
    "# Create a Variable\n",
    "bitcoin = requests.get(url)\n",
    "\n",
    "# Print the Status Code\n",
    "print(bitcoin.status_code)\n",
    "\n",
    "# Print the JSON response\n",
    "print(bitcoin.json())"
   ]
  },
  {
   "cell_type": "code",
   "execution_count": 50,
   "id": "478990bf",
   "metadata": {},
   "outputs": [
    {
     "data": {
      "text/plain": [
       "{'Content-Type': 'application/javascript', 'Content-Length': '676', 'Connection': 'keep-alive', 'Access-Control-Allow-Origin': '*', 'Cache-Control': 'max-age=15', 'Date': 'Sat, 02 Jul 2022 17:20:20 GMT', 'Expires': 'Sat, 02 Jul 2022 17:21:07 UTC', 'Server': 'nginx/1.18.0', 'X-Powered-By': 'Fat-Free Framework', 'X-Cache': 'Hit from cloudfront', 'Via': '1.1 890956aa1c00640d3d3a57403fa234d0.cloudfront.net (CloudFront)', 'X-Amz-Cf-Pop': 'LHR50-P1', 'X-Amz-Cf-Id': 'HxY3MmtKMs37TLLKosncqJxzRzAOyz-2bKBRqwYSEx47s6yS6xK8zQ==', 'Age': '13'}"
      ]
     },
     "execution_count": 50,
     "metadata": {},
     "output_type": "execute_result"
    }
   ],
   "source": [
    "# Retrieve the headers\n",
    "bitcoin.headers"
   ]
  },
  {
   "cell_type": "code",
   "execution_count": 51,
   "id": "70754520",
   "metadata": {},
   "outputs": [
    {
     "name": "stdout",
     "output_type": "stream",
     "text": [
      "<class 'dict'>\n",
      "{'time': {'updated': 'Jul 2, 2022 17:19:00 UTC', 'updatedISO': '2022-07-02T17:19:00+00:00', 'updateduk': 'Jul 2, 2022 at 18:19 BST'}, 'disclaimer': 'This data was produced from the CoinDesk Bitcoin Price Index (USD). Non-USD currency data converted using hourly conversion rate from openexchangerates.org', 'chartName': 'Bitcoin', 'bpi': {'USD': {'code': 'USD', 'symbol': '&#36;', 'rate': '19,270.9614', 'description': 'United States Dollar', 'rate_float': 19270.9614}, 'GBP': {'code': 'GBP', 'symbol': '&pound;', 'rate': '15,919.8376', 'description': 'British Pound Sterling', 'rate_float': 15919.8376}, 'EUR': {'code': 'EUR', 'symbol': '&euro;', 'rate': '18,478.0770', 'description': 'Euro', 'rate_float': 18478.077}}}\n"
     ]
    }
   ],
   "source": [
    "# Parse the data with loads\n",
    "bitcoin_content = json.loads(bitcoin.text)\n",
    "\n",
    "print(type(bitcoin_content))\n",
    "print(bitcoin_content)"
   ]
  },
  {
   "cell_type": "code",
   "execution_count": 52,
   "id": "5328f9ac",
   "metadata": {},
   "outputs": [
    {
     "name": "stdout",
     "output_type": "stream",
     "text": [
      "{\n",
      "    \"time\": {\n",
      "        \"updated\": \"Jul 2, 2022 17:19:00 UTC\",\n",
      "        \"updatedISO\": \"2022-07-02T17:19:00+00:00\",\n",
      "        \"updateduk\": \"Jul 2, 2022 at 18:19 BST\"\n",
      "    },\n",
      "    \"disclaimer\": \"This data was produced from the CoinDesk Bitcoin Price Index (USD). Non-USD currency data converted using hourly conversion rate from openexchangerates.org\",\n",
      "    \"chartName\": \"Bitcoin\",\n",
      "    \"bpi\": {\n",
      "        \"USD\": {\n",
      "            \"code\": \"USD\",\n",
      "            \"symbol\": \"&#36;\",\n",
      "            \"rate\": \"19,270.9614\",\n",
      "            \"description\": \"United States Dollar\",\n",
      "            \"rate_float\": 19270.9614\n",
      "        },\n",
      "        \"GBP\": {\n",
      "            \"code\": \"GBP\",\n",
      "            \"symbol\": \"&pound;\",\n",
      "            \"rate\": \"15,919.8376\",\n",
      "            \"description\": \"British Pound Sterling\",\n",
      "            \"rate_float\": 15919.8376\n",
      "        },\n",
      "        \"EUR\": {\n",
      "            \"code\": \"EUR\",\n",
      "            \"symbol\": \"&euro;\",\n",
      "            \"rate\": \"18,478.0770\",\n",
      "            \"description\": \"Euro\",\n",
      "            \"rate_float\": 18478.077\n",
      "        }\n",
      "    }\n",
      "}\n"
     ]
    }
   ],
   "source": [
    "# Formatting JSON\n",
    "print(json.dumps(bitcoin_content, indent=4))"
   ]
  },
  {
   "cell_type": "code",
   "execution_count": 55,
   "id": "293e8408",
   "metadata": {},
   "outputs": [
    {
     "data": {
      "text/html": [
       "<div>\n",
       "<style scoped>\n",
       "    .dataframe tbody tr th:only-of-type {\n",
       "        vertical-align: middle;\n",
       "    }\n",
       "\n",
       "    .dataframe tbody tr th {\n",
       "        vertical-align: top;\n",
       "    }\n",
       "\n",
       "    .dataframe thead th {\n",
       "        text-align: right;\n",
       "    }\n",
       "</style>\n",
       "<table border=\"1\" class=\"dataframe\">\n",
       "  <thead>\n",
       "    <tr style=\"text-align: right;\">\n",
       "      <th></th>\n",
       "      <th>time</th>\n",
       "      <th>disclaimer</th>\n",
       "      <th>chartName</th>\n",
       "      <th>bpi</th>\n",
       "    </tr>\n",
       "  </thead>\n",
       "  <tbody>\n",
       "    <tr>\n",
       "      <th>updated</th>\n",
       "      <td>Jul 2, 2022 17:19:00 UTC</td>\n",
       "      <td>This data was produced from the CoinDesk Bitco...</td>\n",
       "      <td>Bitcoin</td>\n",
       "      <td>NaN</td>\n",
       "    </tr>\n",
       "    <tr>\n",
       "      <th>updatedISO</th>\n",
       "      <td>2022-07-02T17:19:00+00:00</td>\n",
       "      <td>This data was produced from the CoinDesk Bitco...</td>\n",
       "      <td>Bitcoin</td>\n",
       "      <td>NaN</td>\n",
       "    </tr>\n",
       "    <tr>\n",
       "      <th>updateduk</th>\n",
       "      <td>Jul 2, 2022 at 18:19 BST</td>\n",
       "      <td>This data was produced from the CoinDesk Bitco...</td>\n",
       "      <td>Bitcoin</td>\n",
       "      <td>NaN</td>\n",
       "    </tr>\n",
       "    <tr>\n",
       "      <th>USD</th>\n",
       "      <td>NaN</td>\n",
       "      <td>This data was produced from the CoinDesk Bitco...</td>\n",
       "      <td>Bitcoin</td>\n",
       "      <td>{'code': 'USD', 'symbol': '&amp;#36;', 'rate': '19...</td>\n",
       "    </tr>\n",
       "    <tr>\n",
       "      <th>GBP</th>\n",
       "      <td>NaN</td>\n",
       "      <td>This data was produced from the CoinDesk Bitco...</td>\n",
       "      <td>Bitcoin</td>\n",
       "      <td>{'code': 'GBP', 'symbol': '&amp;pound;', 'rate': '...</td>\n",
       "    </tr>\n",
       "  </tbody>\n",
       "</table>\n",
       "</div>"
      ],
      "text/plain": [
       "                                 time  \\\n",
       "updated      Jul 2, 2022 17:19:00 UTC   \n",
       "updatedISO  2022-07-02T17:19:00+00:00   \n",
       "updateduk    Jul 2, 2022 at 18:19 BST   \n",
       "USD                               NaN   \n",
       "GBP                               NaN   \n",
       "\n",
       "                                                   disclaimer chartName  \\\n",
       "updated     This data was produced from the CoinDesk Bitco...   Bitcoin   \n",
       "updatedISO  This data was produced from the CoinDesk Bitco...   Bitcoin   \n",
       "updateduk   This data was produced from the CoinDesk Bitco...   Bitcoin   \n",
       "USD         This data was produced from the CoinDesk Bitco...   Bitcoin   \n",
       "GBP         This data was produced from the CoinDesk Bitco...   Bitcoin   \n",
       "\n",
       "                                                          bpi  \n",
       "updated                                                   NaN  \n",
       "updatedISO                                                NaN  \n",
       "updateduk                                                 NaN  \n",
       "USD         {'code': 'USD', 'symbol': '&#36;', 'rate': '19...  \n",
       "GBP         {'code': 'GBP', 'symbol': '&pound;', 'rate': '...  "
      ]
     },
     "execution_count": 55,
     "metadata": {},
     "output_type": "execute_result"
    }
   ],
   "source": [
    "# Import pandas and create a DataFrame \n",
    "bitcoin_df = pd.DataFrame(bitcoin_content)\n",
    "\n",
    "bitcoin_df.head()"
   ]
  },
  {
   "cell_type": "code",
   "execution_count": 57,
   "id": "bcf1f0fb",
   "metadata": {},
   "outputs": [],
   "source": [
    "# Save JSON file to .json\n",
    "# Create a JSON file\n",
    "bitcoin_json = json.dumps(bitcoin_content)\n",
    "\n",
    "with open('bitcoin_json.json', 'w') as f: \n",
    "    json.dump(bitcoin_content, f)\n",
    "    \n",
    "# Save as a CSV file without index\n",
    "bitcoin_df.to_csv('bitcoin_content.csv', index=False)"
   ]
  },
  {
   "cell_type": "code",
   "execution_count": null,
   "id": "a3518fbd",
   "metadata": {},
   "outputs": [],
   "source": []
  }
 ],
 "metadata": {
  "kernelspec": {
   "display_name": "Python 3 (ipykernel)",
   "language": "python",
   "name": "python3"
  },
  "language_info": {
   "codemirror_mode": {
    "name": "ipython",
    "version": 3
   },
   "file_extension": ".py",
   "mimetype": "text/x-python",
   "name": "python",
   "nbconvert_exporter": "python",
   "pygments_lexer": "ipython3",
   "version": "3.9.12"
  }
 },
 "nbformat": 4,
 "nbformat_minor": 5
}
